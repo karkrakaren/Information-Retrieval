{
 "cells": [
  {
   "cell_type": "code",
   "execution_count": 1,
   "metadata": {},
   "outputs": [],
   "source": [
    "import numpy as np\n",
    "import pandas as pd\n",
    "import matplotlib.pyplot as plt\n",
    "import ast\n",
    "from nltk.tokenize import wordpunct_tokenize, word_tokenize\n",
    "from nltk.stem.snowball import SnowballStemmer"
   ]
  },
  {
   "cell_type": "markdown",
   "metadata": {},
   "source": [
    "#### Load in data"
   ]
  },
  {
   "cell_type": "code",
   "execution_count": 2,
   "metadata": {},
   "outputs": [
    {
     "name": "stdout",
     "output_type": "stream",
     "text": [
      "        id                                   title  \\\n",
      "0   861106            ['vegetarisch', 'bonenstof']   \n",
      "1   680104                   ['fris', 'limoenrom']   \n",
      "2   683858  ['kalkoenfilet', 'champignonroomsaus']   \n",
      "3  1187074     ['andijvie', 'rauw', 'ham', 'prei']   \n",
      "4   660152        ['spruit', '-', 'rozijnensalad']   \n",
      "\n",
      "                                         description        course  \\\n",
      "0  ['stoofgerecht', 'vegetarisch', 'balletjes', '...  hoofdgerecht   \n",
      "1  ['recept', '.', 'nagerecht', 'bevat', 'volgend...     nagerecht   \n",
      "2  ['kidsprof', 'winter', 'recept', 'pasta', 'kal...  hoofdgerecht   \n",
      "3  ['bijgerecht', 'andijvie', ',', 'prei', ',', '...    bijgerecht   \n",
      "4  ['holland', 'recept', '.', 'vegetarisch', 'bij...    bijgerecht   \n",
      "\n",
      "   recipe_yield                                        ingredients  calories  \\\n",
      "0           4.0  ['olijfolie', 'tomatenblokjes', 'bruine bon', ...     410.0   \n",
      "1           4.0  ['limoen', 'slagrom', 'vloeibare hon', 'grieks...     290.0   \n",
      "2           4.0  ['olijfolie', 'gedroogde rozemarijn', 'champig...     585.0   \n",
      "3           4.0  ['olijfolie', 'prei', 'knoflok', 'fijngesneden...     175.0   \n",
      "4           4.0  ['sladressing bieslok', 'spruitjes', 'bosui', ...     115.0   \n",
      "\n",
      "   protein  carbohydrates   fat  ...  sodium  fiber  cooking_time  rating  \\\n",
      "0     21.0           52.0  10.0  ...  1040.0   16.0          15.0     3.0   \n",
      "1      8.0           14.0  22.0  ...     NaN    NaN          10.0     3.0   \n",
      "2     41.0           58.0  21.0  ...     NaN    NaN          25.0     3.0   \n",
      "3      9.0            7.0  11.0  ...   475.0    6.0          15.0     3.0   \n",
      "4      1.0           19.0   4.0  ...     NaN    NaN          15.0     3.0   \n",
      "\n",
      "   review_count                                 recipe_instruction  \\\n",
      "0         483.0                    Verwarm de oven voor op 200 ºC.   \n",
      "1         161.0                                                NaN   \n",
      "2         112.0  Kook de spaghetti volgens de aanwijzingen op d...   \n",
      "3           8.0  Was de preien en snijd ze in ringen. Snijd de ...   \n",
      "4          58.0  Verwijder de buitenste bladeren van de spruite...   \n",
      "\n",
      "                                               tags  \\\n",
      "0                ['vegetarisch', ' slank', ' oven']   \n",
      "1                                         ['kerst']   \n",
      "2  ['italiaans', ' wat eten we vandaag', ' bakken']   \n",
      "3       ['glutenvrij', ' lactosevrij', ' hollands']   \n",
      "4            ['vegetarisch', ' hollands', ' koken']   \n",
      "\n",
      "                    appliances        main_ingredient                type  \n",
      "0  ['ovenschaal (20 x 30 cm)']           bruine bonen        ['stoofpot']  \n",
      "1              ['hoge glazen']             limoenroom  ['Type not found']  \n",
      "2                           []           kalkoenfilet           ['vlees']  \n",
      "3                           []  fijngesneden andijvie           ['vlees']  \n",
      "4                           []               rozijnen          ['salade']  \n",
      "\n",
      "[5 rows x 21 columns]\n"
     ]
    }
   ],
   "source": [
    "data = pd.read_csv('allerhande_preprocessed.csv', index_col=0)\n",
    "print(data.head())\n",
    "data = data.replace('\\xad', '')"
   ]
  },
  {
   "cell_type": "code",
   "execution_count": 3,
   "metadata": {},
   "outputs": [
    {
     "name": "stdout",
     "output_type": "stream",
     "text": [
      "        id                                title  \\\n",
      "0   861106              Vegetarische bonenstoof   \n",
      "1   680104                    Frisse limoenroom   \n",
      "2   683858  Kalkoenfilet met champignonroomsaus   \n",
      "3  1187074       Andijvie met rauwe ham en prei   \n",
      "4   660152              Spruiten-rozijnensalade   \n",
      "\n",
      "                                         description        course  \\\n",
      "0  Stoofgerecht met vegetarische balletjes, aarda...  hoofdgerecht   \n",
      "1  Een lekker recept. Het nagerecht bevat de volg...     nagerecht   \n",
      "2  Kidsproof winters recept voor pasta met kalkoe...  hoofdgerecht   \n",
      "3  bijgerecht met andijvie, prei, knoflook, tijm ...    bijgerecht   \n",
      "4  Een lekker hollands recept. Het vegetarische b...    bijgerecht   \n",
      "\n",
      "  recipe_yield                                        ingredients calories  \\\n",
      "0   4 personen  {'olijfolie': '2 el()', 'tomatenblokjes': '800...  410kcal   \n",
      "1   4 personen  {'limoenen': ' 2(schoongeboend)', 'slagroom': ...  290kcal   \n",
      "2   4 personen  {'olijfolie': '2 el()', 'gedroogde rozemarijn'...  585kcal   \n",
      "3   4 personen  {'olijfolie': '2 el()', 'prei': '2 ()', 'knofl...  175kcal   \n",
      "4   4 personen  {'sladressing bieslook': '6 el(fles 270 ml)', ...  115kcal   \n",
      "\n",
      "  protein carbohydrates  fat saturated_fat   sodium fiber      cooking_time  \\\n",
      "0     21g           52g  10g            2g  1.040mg   16g  15 min. bereiden   \n",
      "1      8g           14g  22g           NaN      NaN   NaN  10 min. bereiden   \n",
      "2     41g           58g  21g            0g      NaN   NaN  25 min. bereiden   \n",
      "3      9g            7g  11g            2g    475mg    6g  15 min. bereiden   \n",
      "4      1g           19g   4g            0g      NaN   NaN  15 min. bereiden   \n",
      "\n",
      "   rating  review_count                                 recipe_instruction  \\\n",
      "0     3.0         483.0                    Verwarm de oven voor op 200 ºC.   \n",
      "1     3.0         161.0                                                NaN   \n",
      "2     3.0         112.0  Kook de spaghetti volgens de aanwijzingen op d...   \n",
      "3     3.0           8.0  Was de preien en snijd ze in ringen. Snijd de ...   \n",
      "4     3.0          58.0  Verwijder de buitenste bladeren van de spruite...   \n",
      "\n",
      "                                              source  \\\n",
      "0  Allerhande magazine 2012 nr. 11 - Alles uit de...   \n",
      "1  Allerhande magazine 2010 nr. 12 - Kerst nieuw-...   \n",
      "2                        Receptkaart 2010 week 50-51   \n",
      "3     Allerhande magazine 2016 nr. 05 - Eet de lente   \n",
      "4  Allerhande magazine 2010 nr. 09 - Groente volo...   \n",
      "\n",
      "                                             tags                   appliances  \n",
      "0                ['vegetarisch', 'slank', 'oven']  ['ovenschaal (20 x 30 cm)']  \n",
      "1                                       ['kerst']              ['hoge glazen']  \n",
      "2  ['italiaans', 'wat eten we vandaag', 'bakken']                           []  \n",
      "3       ['glutenvrij', 'lactosevrij', 'hollands']                           []  \n",
      "4            ['vegetarisch', 'hollands', 'koken']                           []  \n"
     ]
    }
   ],
   "source": [
    "view_data = pd.read_csv('allerhande_raw.csv', index_col=0)\n",
    "print(view_data.head())"
   ]
  },
  {
   "cell_type": "markdown",
   "metadata": {},
   "source": [
    "#### Load in inverted columns and convert to dict"
   ]
  },
  {
   "cell_type": "code",
   "execution_count": 4,
   "metadata": {},
   "outputs": [
    {
     "name": "stdout",
     "output_type": "stream",
     "text": [
      "                               Word                     Index\n",
      "0                chinese-groentemix  [967, 8407, 8856, 10451]\n",
      "1  paddenstoelenmix paprika bieslok                   [13788]\n",
      "2                           bananas                    [7345]\n",
      "3              aziatische wokgroent             [7595, 15247]\n",
      "4              kruidenmix voor nasi                   [11139]\n"
     ]
    }
   ],
   "source": [
    "inverted_ingredients_pd = pd.read_csv('inverted_list_ingredients.csv', header=None, names=['Word', 'Index'])\n",
    "print(inverted_ingredients_pd.head())\n",
    "inverted_ingredients_dict = pd.Series(inverted_ingredients_pd.Index.values,index=inverted_ingredients_pd.Word).to_dict()"
   ]
  },
  {
   "cell_type": "code",
   "execution_count": 5,
   "metadata": {},
   "outputs": [
    {
     "name": "stdout",
     "output_type": "stream",
     "text": [
      "               Word                                              Index\n",
      "1  zonder vlees/vis  [14, 52, 59, 74, 174, 185, 245, 296, 311, 385,...\n",
      "2         caribisch                                 [649, 4952, 10112]\n",
      "3             frans  [44, 93, 107, 233, 246, 312, 325, 413, 430, 44...\n",
      "4             pasen  [109, 634, 801, 1045, 1293, 1305, 1559, 1574, ...\n",
      "5         traktatie  [2848, 4303, 6495, 7928, 8161, 9488, 14460, 16...\n"
     ]
    }
   ],
   "source": [
    "inverted_tags_pd = pd.read_csv('inverted_list_tags.csv', header=None, names=['Word', 'Index'])\n",
    "# remove row with value NaN\n",
    "index_nr = []\n",
    "for i, word in enumerate(inverted_tags_pd['Word']):\n",
    "    if type(word) is not str:\n",
    "        index_nr.append(i)\n",
    "inverted_tags_pd.drop(index_nr, inplace=True)\n",
    "print(inverted_tags_pd.head())\n",
    "inverted_tags_dict = pd.Series(inverted_tags_pd.Index.values,index=inverted_tags_pd.Word).to_dict()"
   ]
  },
  {
   "cell_type": "code",
   "execution_count": 6,
   "metadata": {},
   "outputs": [
    {
     "name": "stdout",
     "output_type": "stream",
     "text": [
      "             Word                                              Index\n",
      "0         hutspot  [766, 1082, 2267, 2794, 3092, 4189, 4266, 4617...\n",
      "1      pannenkoek  [204, 248, 368, 414, 497, 572, 586, 786, 917, ...\n",
      "2           fruit  [282, 877, 2094, 5986, 6117, 6609, 8763, 12188...\n",
      "3  Type not found  [1, 17, 41, 51, 98, 101, 104, 121, 124, 126, 1...\n",
      "4        stoofpot  [0, 62, 63, 167, 183, 314, 325, 327, 389, 537,...\n"
     ]
    }
   ],
   "source": [
    "inverted_types_pd = pd.read_csv('inverted_list_types.csv', header=None, names=['Word', 'Index'])\n",
    "print(inverted_types_pd.head())\n",
    "inverted_types_dict = pd.Series(inverted_types_pd.Index.values,index=inverted_types_pd.Word).to_dict()"
   ]
  },
  {
   "cell_type": "code",
   "execution_count": 7,
   "metadata": {},
   "outputs": [
    {
     "name": "stdout",
     "output_type": "stream",
     "text": [
      "             Word    Index\n",
      "0        taglioni   [7690]\n",
      "1         bananas  [16662]\n",
      "2     koffiewafel    [618]\n",
      "3  rodekooltaartj   [6256]\n",
      "4        crawfish   [8587]\n",
      "[5065]\n",
      "8691\n"
     ]
    }
   ],
   "source": [
    "inverted_title_pd = pd.read_csv('inverted_list_title.csv', header=None, names=['Word', 'Index'])\n",
    "print(inverted_title_pd.head())\n",
    "index_nr = []\n",
    "for i, word in enumerate(inverted_title_pd['Word']):\n",
    "    if type(word) is not str:\n",
    "        index_nr.append(i)\n",
    "print(index_nr)\n",
    "print(len(inverted_title_pd['Word']))\n",
    "# print(index_nr)\n",
    "inverted_title_pd.drop(index_nr, inplace=True)\n",
    "inverted_title_dict = pd.Series(inverted_title_pd.Index.values,index=inverted_title_pd.Word).to_dict()\n"
   ]
  },
  {
   "cell_type": "markdown",
   "metadata": {},
   "source": [
    "#### First for only one word in only one inverted column"
   ]
  },
  {
   "cell_type": "code",
   "execution_count": 8,
   "metadata": {},
   "outputs": [],
   "source": [
    "# word = str, inverted_column = dict, retrieved_docs = list\n",
    "def retrieve_inverted_column(word, inverted_column):\n",
    "    retrieved_docs = []\n",
    "    for key in inverted_column.keys():\n",
    "        if word in key:\n",
    "            retrieved_docs += ast.literal_eval(inverted_column.get(key))\n",
    "    return list(set(retrieved_docs))"
   ]
  },
  {
   "cell_type": "markdown",
   "metadata": {},
   "source": [
    "## Retrieval system\n",
    "- tokenize query, remove all tokens that have len = 1, since these are not words\n",
    "- for each word in query, create set of documents containing this word\n",
    "    - look through each inverted column to retrieve possible documents\n",
    "- get the intersection of the document sets of each word to only retrieve documents with all query words\n",
    "- print all retrieved documents"
   ]
  },
  {
   "cell_type": "code",
   "execution_count": 9,
   "metadata": {},
   "outputs": [],
   "source": [
    "# query = str, inverted_column = list of dicts?\n",
    "def retrieve(query, inverted_columns, dataset):\n",
    "    tokens = word_tokenize(query)\n",
    "    words = [item for item in tokens if len(item) > 1]\n",
    "    \n",
    "    # lowercase & stemmen\n",
    "    words = [y.lower() for y in words]\n",
    "    stemmer = SnowballStemmer(\"dutch\")\n",
    "    words = [stemmer.stem(y) for y in words]\n",
    "    \n",
    "    set_per_word = []\n",
    "    \n",
    "    # loop through query words\n",
    "    for word in words:\n",
    "        \n",
    "        # get set of retrieved docs for each word\n",
    "        retrieved_docs_word = []\n",
    "        for column in inverted_columns:\n",
    "            retrieved_docs_word += retrieve_inverted_column(word, column)\n",
    "        set_per_word.append(set(retrieved_docs_word))\n",
    "    \n",
    "    # get intersection of sets for whole query\n",
    "    retrieved = set_per_word[0]\n",
    "    for element in set_per_word[1:]:\n",
    "        retrieved = retrieved.intersection(element)\n",
    "        \n",
    "    # print all retrieved recipes\n",
    "    for index in retrieved:\n",
    "        print(dataset.iloc[index,:])\n",
    "        print('\\n')\n",
    "        \n",
    "    return list(retrieved)\n",
    "    \n",
    "    "
   ]
  },
  {
   "cell_type": "code",
   "execution_count": 10,
   "metadata": {},
   "outputs": [
    {
     "name": "stdout",
     "output_type": "stream",
     "text": [
      "id                                                               549844\n",
      "title                                        ['ijskoffie', 'chocorasp']\n",
      "description           ['recept', '.', 'vegetarisch', 'nagerecht', 'b...\n",
      "course                                                        nagerecht\n",
      "recipe_yield                                                          4\n",
      "ingredients                   ['sterke koffie', 'pure chocolad', 'ijs']\n",
      "calories                                                            105\n",
      "protein                                                               2\n",
      "carbohydrates                                                        12\n",
      "fat                                                                   6\n",
      "saturated_fat                                                       NaN\n",
      "sodium                                                              NaN\n",
      "fiber                                                               NaN\n",
      "cooking_time                                                          5\n",
      "rating                                                                3\n",
      "review_count                                                         92\n",
      "recipe_instruction                                                  NaN\n",
      "tags                                                    ['vegetarisch']\n",
      "appliances                                            ['4 hoge glazen']\n",
      "main_ingredient                                           sterke koffie\n",
      "type                                                         ['koffie']\n",
      "Name: 3714, dtype: object\n",
      "\n",
      "\n",
      "id                                                               208532\n",
      "title                                      ['ijskoffie', 'advocaatrom']\n",
      "description           ['recept', '.', 'vegetarisch', 'nagerecht', 'b...\n",
      "course                                                        nagerecht\n",
      "recipe_yield                                                          4\n",
      "ingredients           ['vanillesuiker', 'scharreladvocat', 'cafe au ...\n",
      "calories                                                            325\n",
      "protein                                                               5\n",
      "carbohydrates                                                        32\n",
      "fat                                                                  19\n",
      "saturated_fat                                                       NaN\n",
      "sodium                                                              NaN\n",
      "fiber                                                               NaN\n",
      "cooking_time                                                         10\n",
      "rating                                                                3\n",
      "review_count                                                         16\n",
      "recipe_instruction                                                  NaN\n",
      "tags                                                    ['vegetarisch']\n",
      "appliances                                                           []\n",
      "main_ingredient                                               ijskoffie\n",
      "type                                                 ['Type not found']\n",
      "Name: 3926, dtype: object\n",
      "\n",
      "\n",
      "id                                                               140226\n",
      "title                                                     ['ijskoffie']\n",
      "description           ['recept', '.', 'vegetarisch', 'nagerecht', 'b...\n",
      "course                                                        nagerecht\n",
      "recipe_yield                                                          4\n",
      "ingredients               ['vanilleroomijs', 'likeur', 'hete espresso']\n",
      "calories                                                            NaN\n",
      "protein                                                             NaN\n",
      "carbohydrates                                                       NaN\n",
      "fat                                                                 NaN\n",
      "saturated_fat                                                       NaN\n",
      "sodium                                                              NaN\n",
      "fiber                                                               NaN\n",
      "cooking_time                                                          5\n",
      "rating                                                                2\n",
      "review_count                                                         18\n",
      "recipe_instruction                                                  NaN\n",
      "tags                                          ['kerst', ' vegetarisch']\n",
      "appliances                                                           []\n",
      "main_ingredient                                               ijskoffie\n",
      "type                                                         ['koffie']\n",
      "Name: 400, dtype: object\n",
      "\n",
      "\n",
      "id                                                               468752\n",
      "title                                    ['ijskoffie', 'lobbig', 'rom']\n",
      "description           ['recept', '.', 'vegetarisch', 'nagerecht', 'b...\n",
      "course                                                        nagerecht\n",
      "recipe_yield                                                          4\n",
      "ingredients           ['suiker', 'slagrom', 'ijsklontjes', 'koffie',...\n",
      "calories                                                            274\n",
      "protein                                                               2\n",
      "carbohydrates                                                        17\n",
      "fat                                                                  22\n",
      "saturated_fat                                                       NaN\n",
      "sodium                                                              NaN\n",
      "fiber                                                               NaN\n",
      "cooking_time                                                         10\n",
      "rating                                                                3\n",
      "review_count                                                         32\n",
      "recipe_instruction                                                  NaN\n",
      "tags                                                    ['vegetarisch']\n",
      "appliances                                                           []\n",
      "main_ingredient                                                  koffie\n",
      "type                                                 ['Type not found']\n",
      "Name: 13214, dtype: object\n",
      "\n",
      "\n",
      "id                                                               517076\n",
      "title                                                     ['ijskoffie']\n",
      "description           ['recept', '.', 'vegetarisch', 'nagerecht', 'b...\n",
      "course                                                        nagerecht\n",
      "recipe_yield                                                          4\n",
      "ingredients           ['kaneelpoeder', 'chocoladestick', 'witte bast...\n",
      "calories                                                              0\n",
      "protein                                                               0\n",
      "carbohydrates                                                         0\n",
      "fat                                                                   0\n",
      "saturated_fat                                                         0\n",
      "sodium                                                              NaN\n",
      "fiber                                                               NaN\n",
      "cooking_time                                                         15\n",
      "rating                                                                3\n",
      "review_count                                                         84\n",
      "recipe_instruction                                                  NaN\n",
      "tags                                ['kerst', ' vegetarisch', ' slank']\n",
      "appliances                                   ['hoge glazen', 'blender']\n",
      "main_ingredient                                               ijskoffie\n",
      "type                                                         ['koffie']\n",
      "Name: 18627, dtype: object\n",
      "\n",
      "\n",
      "['ijskoffie', 'chocorasp']\n"
     ]
    }
   ],
   "source": [
    "test1 = retrieve(\"ijskoffie\", [inverted_ingredients_dict, inverted_tags_dict, inverted_types_dict, inverted_title_dict],data)\n",
    "print(data.iloc[test1[0],1])"
   ]
  },
  {
   "cell_type": "markdown",
   "metadata": {},
   "source": [
    "## User interface test"
   ]
  },
  {
   "cell_type": "code",
   "execution_count": 11,
   "metadata": {},
   "outputs": [],
   "source": [
    "from tkinter import *\n",
    "from PIL import Image, ImageTk"
   ]
  },
  {
   "cell_type": "code",
   "execution_count": null,
   "metadata": {},
   "outputs": [],
   "source": [
    "def click():\n",
    "    entered_text = textentry.get()\n",
    "    output.delete(0.0, END)\n",
    "    recipes = retrieve(entered_text, [inverted_ingredients_dict, inverted_tags_dict, inverted_types_dict, inverted_title_dict],data)\n",
    "    for element in recipes:\n",
    "        output.insert(END, view_data.iloc[element,1])\n",
    "        output.insert(END, '\\n')\n",
    "    \n",
    "window = Tk()\n",
    "window.title('Recepten zoeker')\n",
    "window.configure(background='white')\n",
    "# window.geometry(\"{}x{}\".format(window.winfo_screenwidth(), window.winfo_screenheight()))\n",
    "\n",
    "image = Image.open(\"bestek.png\")\n",
    "photo1 = ImageTk.PhotoImage(Image.open(\"bestek.png\"))\n",
    "Label(window, image=photo1).grid(row=0,column = 0, columnspan = 4, sticky=W+E+N+S)\n",
    "\n",
    "Label(window, text=\"Wat wil je eten vanavond?\", font='none 24 bold').grid(row=1,column=0,columnspan = 4,sticky=E+W)\n",
    "\n",
    "textentry = Entry(window, width = 55)\n",
    "textentry.grid(row=3,column=0,columnspan = 4,sticky=W)\n",
    "\n",
    "Button(window, text='Zoek recepten', width=13, command=click, bg='red', fg='black', font='none 18 bold').grid(row=3,column=0, columnspan=4,sticky=E)\n",
    "\n",
    "Label(window, text='Gevonden recepten',font='none 18 bold').grid(row=4,column=0,sticky=E+W)\n",
    "\n",
    "output = Text(window, width=75, height=6, wrap=WORD)\n",
    "output.grid(row=5,column=0,columnspan=2,sticky=E+W)\n",
    "\n",
    "window.mainloop()"
   ]
  },
  {
   "cell_type": "code",
   "execution_count": null,
   "metadata": {},
   "outputs": [],
   "source": []
  },
  {
   "cell_type": "code",
   "execution_count": null,
   "metadata": {},
   "outputs": [],
   "source": []
  }
 ],
 "metadata": {
  "kernelspec": {
   "display_name": "Python 3",
   "language": "python",
   "name": "python3"
  },
  "language_info": {
   "codemirror_mode": {
    "name": "ipython",
    "version": 3
   },
   "file_extension": ".py",
   "mimetype": "text/x-python",
   "name": "python",
   "nbconvert_exporter": "python",
   "pygments_lexer": "ipython3",
   "version": "3.6.8"
  }
 },
 "nbformat": 4,
 "nbformat_minor": 2
}
